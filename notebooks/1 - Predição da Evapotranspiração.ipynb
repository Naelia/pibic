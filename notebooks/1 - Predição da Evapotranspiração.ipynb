{
 "cells": [
  {
   "cell_type": "markdown",
   "metadata": {},
   "source": [
    "# Predição da Evapotranspiração"
   ]
  },
  {
   "cell_type": "markdown",
   "metadata": {},
   "source": [
    "## Importação das bibliotecas utilizadas"
   ]
  },
  {
   "cell_type": "code",
   "execution_count": 55,
   "metadata": {},
   "outputs": [],
   "source": [
    "# Importando os módulos\n",
    "import csv\n",
    "import pandas as pd\n",
    "import matplotlib.pyplot as plt    \n",
    "import numpy as np  \n",
    "from sklearn.linear_model import LinearRegression\n",
    "import h2o\n",
    "from h2o.estimators.gbm import H2OGradientBoostingEstimator\n",
    "from datetime import datetime, date, time, timezone\n",
    "import matplotlib.pyplot as plt\n",
    "%matplotlib inline "
   ]
  },
  {
   "cell_type": "markdown",
   "metadata": {},
   "source": [
    "## Importação dos dados"
   ]
  },
  {
   "cell_type": "code",
   "execution_count": 2,
   "metadata": {},
   "outputs": [
    {
     "data": {
      "text/html": [
       "<div>\n",
       "<style scoped>\n",
       "    .dataframe tbody tr th:only-of-type {\n",
       "        vertical-align: middle;\n",
       "    }\n",
       "\n",
       "    .dataframe tbody tr th {\n",
       "        vertical-align: top;\n",
       "    }\n",
       "\n",
       "    .dataframe thead th {\n",
       "        text-align: right;\n",
       "    }\n",
       "</style>\n",
       "<table border=\"1\" class=\"dataframe\">\n",
       "  <thead>\n",
       "    <tr style=\"text-align: right;\">\n",
       "      <th></th>\n",
       "      <th>TIMESTAMP</th>\n",
       "      <th>RECORD</th>\n",
       "      <th>BP_mbar_Max</th>\n",
       "      <th>BP_mbar_Min</th>\n",
       "      <th>Rain_mm_Tot</th>\n",
       "      <th>AirTC_Max</th>\n",
       "      <th>AirTC_Min</th>\n",
       "      <th>RH_Max</th>\n",
       "      <th>RH_Min</th>\n",
       "      <th>SlrkJ_Tot</th>\n",
       "      <th>TdC_Max</th>\n",
       "      <th>TdC_Min</th>\n",
       "      <th>AirTC_Avg</th>\n",
       "      <th>RH_Avg</th>\n",
       "      <th>WS_ms_Avg</th>\n",
       "      <th>SlrkJ_Avg</th>\n",
       "      <th>Eto</th>\n",
       "    </tr>\n",
       "  </thead>\n",
       "  <tbody>\n",
       "    <tr>\n",
       "      <td>0</td>\n",
       "      <td>2015-02-24 22:00:00</td>\n",
       "      <td>13253</td>\n",
       "      <td>600.8486</td>\n",
       "      <td>600.3632</td>\n",
       "      <td>0.000</td>\n",
       "      <td>23.472</td>\n",
       "      <td>23.341</td>\n",
       "      <td>99.998</td>\n",
       "      <td>99.998</td>\n",
       "      <td>0.193834</td>\n",
       "      <td>23.472</td>\n",
       "      <td>23.341</td>\n",
       "      <td>23.39763</td>\n",
       "      <td>99.99786</td>\n",
       "      <td>0.000000</td>\n",
       "      <td>0.000538</td>\n",
       "      <td>0.0002984148</td>\n",
       "    </tr>\n",
       "    <tr>\n",
       "      <td>1</td>\n",
       "      <td>2015-02-24 23:00:00</td>\n",
       "      <td>13254</td>\n",
       "      <td>600.7875</td>\n",
       "      <td>600.4396</td>\n",
       "      <td>0.000</td>\n",
       "      <td>23.472</td>\n",
       "      <td>23.26</td>\n",
       "      <td>99.998</td>\n",
       "      <td>99.998</td>\n",
       "      <td>0.137363</td>\n",
       "      <td>23.472</td>\n",
       "      <td>23.260</td>\n",
       "      <td>23.3635</td>\n",
       "      <td>99.99786</td>\n",
       "      <td>0.000000</td>\n",
       "      <td>0.000382</td>\n",
       "      <td>0.0002987745</td>\n",
       "    </tr>\n",
       "    <tr>\n",
       "      <td>2</td>\n",
       "      <td>2015-02-25 00:00:00</td>\n",
       "      <td>13255</td>\n",
       "      <td>601.1295</td>\n",
       "      <td>600.7021</td>\n",
       "      <td>0.254</td>\n",
       "      <td>23.371</td>\n",
       "      <td>23.212</td>\n",
       "      <td>99.998</td>\n",
       "      <td>99.998</td>\n",
       "      <td>0.137363</td>\n",
       "      <td>23.371</td>\n",
       "      <td>23.212</td>\n",
       "      <td>23.29213</td>\n",
       "      <td>99.99786</td>\n",
       "      <td>0.002500</td>\n",
       "      <td>0.000382</td>\n",
       "      <td>0.0002994588</td>\n",
       "    </tr>\n",
       "    <tr>\n",
       "      <td>3</td>\n",
       "      <td>2015-02-25 01:00:00</td>\n",
       "      <td>13256</td>\n",
       "      <td>601.1752</td>\n",
       "      <td>600.4365</td>\n",
       "      <td>0.000</td>\n",
       "      <td>23.402</td>\n",
       "      <td>23.292</td>\n",
       "      <td>99.998</td>\n",
       "      <td>99.998</td>\n",
       "      <td>0.202992</td>\n",
       "      <td>23.402</td>\n",
       "      <td>23.292</td>\n",
       "      <td>23.34686</td>\n",
       "      <td>99.99786</td>\n",
       "      <td>0.023333</td>\n",
       "      <td>0.000564</td>\n",
       "      <td>0.0002972446</td>\n",
       "    </tr>\n",
       "    <tr>\n",
       "      <td>4</td>\n",
       "      <td>2015-02-25 02:00:00</td>\n",
       "      <td>13257</td>\n",
       "      <td>601.1813</td>\n",
       "      <td>600.6227</td>\n",
       "      <td>0.000</td>\n",
       "      <td>23.35</td>\n",
       "      <td>23.212</td>\n",
       "      <td>99.998</td>\n",
       "      <td>99.998</td>\n",
       "      <td>0.203755</td>\n",
       "      <td>23.350</td>\n",
       "      <td>23.212</td>\n",
       "      <td>23.2819</td>\n",
       "      <td>99.99786</td>\n",
       "      <td>0.000000</td>\n",
       "      <td>0.000566</td>\n",
       "      <td>0.0002998548</td>\n",
       "    </tr>\n",
       "  </tbody>\n",
       "</table>\n",
       "</div>"
      ],
      "text/plain": [
       "             TIMESTAMP  RECORD  BP_mbar_Max  BP_mbar_Min  Rain_mm_Tot  \\\n",
       "0  2015-02-24 22:00:00   13253     600.8486     600.3632        0.000   \n",
       "1  2015-02-24 23:00:00   13254     600.7875     600.4396        0.000   \n",
       "2  2015-02-25 00:00:00   13255     601.1295     600.7021        0.254   \n",
       "3  2015-02-25 01:00:00   13256     601.1752     600.4365        0.000   \n",
       "4  2015-02-25 02:00:00   13257     601.1813     600.6227        0.000   \n",
       "\n",
       "  AirTC_Max AirTC_Min  RH_Max  RH_Min  SlrkJ_Tot  TdC_Max  TdC_Min AirTC_Avg  \\\n",
       "0    23.472    23.341  99.998  99.998   0.193834   23.472   23.341  23.39763   \n",
       "1    23.472     23.26  99.998  99.998   0.137363   23.472   23.260   23.3635   \n",
       "2    23.371    23.212  99.998  99.998   0.137363   23.371   23.212  23.29213   \n",
       "3    23.402    23.292  99.998  99.998   0.202992   23.402   23.292  23.34686   \n",
       "4     23.35    23.212  99.998  99.998   0.203755   23.350   23.212   23.2819   \n",
       "\n",
       "     RH_Avg  WS_ms_Avg  SlrkJ_Avg           Eto  \n",
       "0  99.99786   0.000000   0.000538  0.0002984148  \n",
       "1  99.99786   0.000000   0.000382  0.0002987745  \n",
       "2  99.99786   0.002500   0.000382  0.0002994588  \n",
       "3  99.99786   0.023333   0.000564  0.0002972446  \n",
       "4  99.99786   0.000000   0.000566  0.0002998548  "
      ]
     },
     "execution_count": 2,
     "metadata": {},
     "output_type": "execute_result"
    }
   ],
   "source": [
    "df_data = pd.read_csv('../dados/dataset.csv')\n",
    "df_data.head()"
   ]
  },
  {
   "cell_type": "code",
   "execution_count": 3,
   "metadata": {},
   "outputs": [],
   "source": [
    "df_data['TIMESTAMP'] =  pd.to_datetime(df_data['TIMESTAMP'], format='%Y-%m-%d %H:%M:%S')"
   ]
  },
  {
   "cell_type": "markdown",
   "metadata": {},
   "source": [
    "Na presente análise, vamos replicar os resultados obtidos em [CAMINHA, Hinessa Dantas], utilizando o mesmo dataset. \n",
    "\n",
    "Para considerar o dataset completo, elimine a próxima célula."
   ]
  },
  {
   "cell_type": "code",
   "execution_count": 4,
   "metadata": {},
   "outputs": [],
   "source": [
    "data_inicial = datetime.strptime(\"2016-6-16 00:00:00\", \"%Y-%m-%d %H:%M:%S\")\n",
    "data_final = datetime.strptime(\"2016-10-19 23:59:59\", \"%Y-%m-%d %H:%M:%S\")\n",
    "\n",
    "df_data = df_data[df_data['TIMESTAMP'] > data_inicial]\n",
    "df_data = df_data.reset_index(drop=True)"
   ]
  },
  {
   "cell_type": "code",
   "execution_count": 5,
   "metadata": {},
   "outputs": [
    {
     "data": {
      "text/plain": [
       "TIMESTAMP      datetime64[ns]\n",
       "RECORD                  int64\n",
       "BP_mbar_Max           float64\n",
       "BP_mbar_Min           float64\n",
       "Rain_mm_Tot           float64\n",
       "AirTC_Max             float64\n",
       "AirTC_Min             float64\n",
       "RH_Max                float64\n",
       "RH_Min                float64\n",
       "SlrkJ_Tot             float64\n",
       "TdC_Max               float64\n",
       "TdC_Min               float64\n",
       "AirTC_Avg             float64\n",
       "RH_Avg                float64\n",
       "WS_ms_Avg             float64\n",
       "SlrkJ_Avg             float64\n",
       "Eto                   float64\n",
       "dtype: object"
      ]
     },
     "execution_count": 5,
     "metadata": {},
     "output_type": "execute_result"
    }
   ],
   "source": [
    "df_data['AirTC_Max'] = df_data['AirTC_Max'].astype(np.float64)\n",
    "df_data['AirTC_Min'] = df_data['AirTC_Min'].astype(np.float64)\n",
    "df_data['AirTC_Avg'] = df_data['AirTC_Avg'].astype(np.float64)\n",
    "df_data['Eto'] = df_data['Eto'].astype(np.float64)\n",
    "\n",
    "df_data.dtypes"
   ]
  },
  {
   "cell_type": "code",
   "execution_count": 56,
   "metadata": {},
   "outputs": [],
   "source": [
    "df_data = df_data.set_index('TIMESTAMP')"
   ]
  },
  {
   "cell_type": "markdown",
   "metadata": {},
   "source": [
    "## Limpeza dos dados"
   ]
  },
  {
   "cell_type": "code",
   "execution_count": 57,
   "metadata": {},
   "outputs": [],
   "source": [
    "df_filtered_data = df_data"
   ]
  },
  {
   "cell_type": "markdown",
   "metadata": {},
   "source": [
    "### Precipitação\n",
    "\n",
    "Para essa feature, vamos remover todos os valores (```Rain_mm_Tot```) maiores do que 1."
   ]
  },
  {
   "cell_type": "code",
   "execution_count": 59,
   "metadata": {},
   "outputs": [
    {
     "data": {
      "image/png": "[encoded data removed]",
      "text/plain": [
       "<Figure size 432x288 with 1 Axes>"
      ]
     },
     "metadata": {
      "needs_background": "light"
     },
     "output_type": "display_data"
    }
   ],
   "source": [
    "plt.scatter(df_filtered_data.index, df_filtered_data['Rain_mm_Tot'])\n",
    "plt.xlabel('timestamp')\n",
    "plt.ylabel('precipitação')\n",
    "plt.show()"
   ]
  },
  {
   "cell_type": "code",
   "execution_count": 60,
   "metadata": {},
   "outputs": [
    {
     "data": {
      "text/plain": [
       "(3008, 16)"
      ]
     },
     "execution_count": 60,
     "metadata": {},
     "output_type": "execute_result"
    }
   ],
   "source": [
    "df_filtered_data = df_filtered_data[df_filtered_data['Rain_mm_Tot'] <= 1]\n",
    "df_filtered_data.shape"
   ]
  },
  {
   "cell_type": "code",
   "execution_count": 61,
   "metadata": {},
   "outputs": [
    {
     "data": {
      "image/png": "[encoded data removed]",
      "text/plain": [
       "<Figure size 432x288 with 1 Axes>"
      ]
     },
     "metadata": {
      "needs_background": "light"
     },
     "output_type": "display_data"
    }
   ],
   "source": [
    "plt.scatter(df_filtered_data.index, df_filtered_data['Rain_mm_Tot'])\n",
    "plt.xlabel('timestamp')\n",
    "plt.ylabel('precipitação')\n",
    "plt.show()"
   ]
  },
  {
   "cell_type": "markdown",
   "metadata": {},
   "source": [
    "### Velocidade do vento\n",
    "\n",
    "Para essa feature, vamos remover todos os valores (```WS_ms_Avg```) maiores do que 4."
   ]
  },
  {
   "cell_type": "code",
   "execution_count": 62,
   "metadata": {},
   "outputs": [
    {
     "data": {
      "image/png": "[encoded data removed]",
      "text/plain": [
       "<Figure size 432x288 with 1 Axes>"
      ]
     },
     "metadata": {
      "needs_background": "light"
     },
     "output_type": "display_data"
    }
   ],
   "source": [
    "plt.scatter(df_filtered_data.index, df_filtered_data['WS_ms_Avg'])\n",
    "plt.xlabel('Timestamp')\n",
    "plt.ylabel('Velocidade do Vento')\n",
    "plt.show()"
   ]
  },
  {
   "cell_type": "code",
   "execution_count": 63,
   "metadata": {},
   "outputs": [
    {
     "data": {
      "text/plain": [
       "(3008, 16)"
      ]
     },
     "execution_count": 63,
     "metadata": {},
     "output_type": "execute_result"
    }
   ],
   "source": [
    "# Removendo os dados inconsistente velocidade do vento\n",
    "df_filtered_data = df_filtered_data[df_filtered_data['WS_ms_Avg'] <=4]\n",
    "df_filtered_data.shape"
   ]
  },
  {
   "cell_type": "code",
   "execution_count": 65,
   "metadata": {},
   "outputs": [
    {
     "data": {
      "image/png": "[encoded data removed]",
      "text/plain": [
       "<Figure size 432x288 with 1 Axes>"
      ]
     },
     "metadata": {
      "needs_background": "light"
     },
     "output_type": "display_data"
    }
   ],
   "source": [
    "plt.scatter(df_filtered_data.index, df_filtered_data['WS_ms_Avg'])\n",
    "plt.xlabel('Timestamp')\n",
    "plt.ylabel('Velocidade do Vento')\n",
    "plt.show()"
   ]
  },
  {
   "cell_type": "markdown",
   "metadata": {},
   "source": [
    "### Pressão atmosférica máxima\n",
    "\n",
    "Para essa feature, vamos remover todos os valores (```BP_mbar_Max```) maiores do que 625."
   ]
  },
  {
   "cell_type": "code",
   "execution_count": 67,
   "metadata": {},
   "outputs": [
    {
     "data": {
      "image/png": "[encoded data removed]",
      "text/plain": [
       "<Figure size 432x288 with 1 Axes>"
      ]
     },
     "metadata": {
      "needs_background": "light"
     },
     "output_type": "display_data"
    }
   ],
   "source": [
    "plt.scatter(df_filtered_data.index, df_filtered_data['BP_mbar_Max'])\n",
    "plt.xlabel('Timestamp')\n",
    "plt.ylabel('Pressão Atmosférica Máxima')\n",
    "plt.show()"
   ]
  },
  {
   "cell_type": "code",
   "execution_count": 68,
   "metadata": {},
   "outputs": [
    {
     "data": {
      "text/plain": [
       "(3007, 16)"
      ]
     },
     "execution_count": 68,
     "metadata": {},
     "output_type": "execute_result"
    }
   ],
   "source": [
    "# Removendo os dados inconsistente da Pressão atmosférica máxima\n",
    "df_filtered_data = df_filtered_data[df_filtered_data['BP_mbar_Max'] <= 625]\n",
    "df_filtered_data.shape"
   ]
  },
  {
   "cell_type": "code",
   "execution_count": 69,
   "metadata": {},
   "outputs": [
    {
     "data": {
      "image/png": "[encoded data removed]",
      "text/plain": [
       "<Figure size 432x288 with 1 Axes>"
      ]
     },
     "metadata": {
      "needs_background": "light"
     },
     "output_type": "display_data"
    }
   ],
   "source": [
    "plt.scatter(df_filtered_data.index, df_filtered_data['BP_mbar_Max'])\n",
    "plt.xlabel('Timestamp')\n",
    "plt.ylabel('Pressão Atmosférica Máxima')\n",
    "plt.show()"
   ]
  },
  {
   "cell_type": "markdown",
   "metadata": {},
   "source": [
    "### Radiação Solar Média\n",
    "\n",
    "Para essa feature, vamos remover todos os valores (```BP_mbar_Max```) maiores do que 25.4809."
   ]
  },
  {
   "cell_type": "code",
   "execution_count": 70,
   "metadata": {},
   "outputs": [
    {
     "data": {
      "image/png": "[encoded data removed]",
      "text/plain": [
       "<Figure size 432x288 with 1 Axes>"
      ]
     },
     "metadata": {
      "needs_background": "light"
     },
     "output_type": "display_data"
    }
   ],
   "source": [
    "plt.scatter(df_filtered_data.index, df_filtered_data['SlrkJ_Avg'])\n",
    "plt.xlabel('Timestamp')\n",
    "plt.ylabel('Radiação Solar Média')\n",
    "plt.show()"
   ]
  },
  {
   "cell_type": "code",
   "execution_count": 10,
   "metadata": {},
   "outputs": [
    {
     "data": {
      "text/plain": [
       "(3007, 17)"
      ]
     },
     "execution_count": 10,
     "metadata": {},
     "output_type": "execute_result"
    }
   ],
   "source": [
    "# Removendo os dados inconsistente da Radiação solar média\n",
    "df_filtered_data = df_filtered_data[df_filtered_data['SlrkJ_Avg'] <= 25.4809]\n",
    "df_filtered_data.shape"
   ]
  },
  {
   "cell_type": "code",
   "execution_count": 11,
   "metadata": {},
   "outputs": [
    {
     "data": {
      "text/plain": [
       "7807.995"
      ]
     },
     "execution_count": 11,
     "metadata": {},
     "output_type": "execute_result"
    }
   ],
   "source": [
    "df_filtered_data['SlrkJ_Tot'].max()"
   ]
  },
  {
   "cell_type": "code",
   "execution_count": 12,
   "metadata": {},
   "outputs": [
    {
     "data": {
      "text/plain": [
       "(3007, 17)"
      ]
     },
     "execution_count": 12,
     "metadata": {},
     "output_type": "execute_result"
    }
   ],
   "source": [
    "# Removendo os dados inconsistente da Radiação solar total\n",
    "df_filtered_data = df_filtered_data[df_filtered_data['SlrkJ_Tot'] <= 6000000]\n",
    "df_filtered_data.shape"
   ]
  },
  {
   "cell_type": "code",
   "execution_count": 13,
   "metadata": {},
   "outputs": [
    {
     "data": {
      "text/plain": [
       "22.81481"
      ]
     },
     "execution_count": 13,
     "metadata": {},
     "output_type": "execute_result"
    }
   ],
   "source": [
    "df_filtered_data['TdC_Min'].max()"
   ]
  },
  {
   "cell_type": "code",
   "execution_count": 14,
   "metadata": {},
   "outputs": [
    {
     "data": {
      "text/plain": [
       "(3007, 17)"
      ]
     },
     "execution_count": 14,
     "metadata": {},
     "output_type": "execute_result"
    }
   ],
   "source": [
    "# Removendo os dados inconsistente da Temperatura mínima\n",
    "df_filtered_data = df_filtered_data[df_filtered_data['TdC_Min'] <= 23.4105]\n",
    "df_filtered_data.shape"
   ]
  },
  {
   "cell_type": "code",
   "execution_count": 15,
   "metadata": {},
   "outputs": [
    {
     "data": {
      "text/plain": [
       "99.10529"
      ]
     },
     "execution_count": 15,
     "metadata": {},
     "output_type": "execute_result"
    }
   ],
   "source": [
    "df_filtered_data['RH_Avg'].max()"
   ]
  },
  {
   "cell_type": "code",
   "execution_count": 16,
   "metadata": {},
   "outputs": [
    {
     "data": {
      "text/plain": [
       "(3007, 17)"
      ]
     },
     "execution_count": 16,
     "metadata": {},
     "output_type": "execute_result"
    }
   ],
   "source": [
    "# Removendo os dados inconsistente da Umidade relativa média\n",
    "df_filtered_data = df_filtered_data[df_filtered_data['RH_Avg'] <= 99.8006]\n",
    "df_filtered_data.shape"
   ]
  },
  {
   "cell_type": "code",
   "execution_count": 17,
   "metadata": {},
   "outputs": [
    {
     "data": {
      "text/plain": [
       "24.43459"
      ]
     },
     "execution_count": 17,
     "metadata": {},
     "output_type": "execute_result"
    }
   ],
   "source": [
    "df_filtered_data['TdC_Max'].max()"
   ]
  },
  {
   "cell_type": "code",
   "execution_count": 18,
   "metadata": {},
   "outputs": [
    {
     "data": {
      "text/plain": [
       "(3007, 17)"
      ]
     },
     "execution_count": 18,
     "metadata": {},
     "output_type": "execute_result"
    }
   ],
   "source": [
    "# Removendo os dados inconsistente da Temperatura máxima\n",
    "df_filtered_data = df_filtered_data[df_filtered_data['TdC_Max'] <= 24.8820]\n",
    "df_filtered_data.shape"
   ]
  },
  {
   "cell_type": "code",
   "execution_count": 19,
   "metadata": {},
   "outputs": [
    {
     "data": {
      "text/plain": [
       "36.691"
      ]
     },
     "execution_count": 19,
     "metadata": {},
     "output_type": "execute_result"
    }
   ],
   "source": [
    "df_filtered_data['AirTC_Min'].max()"
   ]
  },
  {
   "cell_type": "code",
   "execution_count": 20,
   "metadata": {},
   "outputs": [
    {
     "data": {
      "text/plain": [
       "(3007, 17)"
      ]
     },
     "execution_count": 20,
     "metadata": {},
     "output_type": "execute_result"
    }
   ],
   "source": [
    "# Removendo os dados inconsistente da Temperatura do ar mínima\n",
    "df_filtered_data = df_filtered_data[df_filtered_data['AirTC_Min'] >= 1]\n",
    "df_filtered_data.shape"
   ]
  },
  {
   "cell_type": "code",
   "execution_count": 21,
   "metadata": {},
   "outputs": [
    {
     "data": {
      "text/plain": [
       "(3007, 17)"
      ]
     },
     "execution_count": 21,
     "metadata": {},
     "output_type": "execute_result"
    }
   ],
   "source": [
    "# Removendo os dados inconsistente da Temperatura do ar mínima\n",
    "df_filtered_data = df_filtered_data[df_filtered_data['AirTC_Min'] <= 36.692]\n",
    "df_filtered_data.shape"
   ]
  },
  {
   "cell_type": "code",
   "execution_count": 22,
   "metadata": {},
   "outputs": [
    {
     "data": {
      "text/plain": [
       "23993.0"
      ]
     },
     "execution_count": 22,
     "metadata": {},
     "output_type": "execute_result"
    }
   ],
   "source": [
    "df_filtered_data['AirTC_Max'].max()"
   ]
  },
  {
   "cell_type": "code",
   "execution_count": 23,
   "metadata": {},
   "outputs": [],
   "source": [
    "# Removendo os dados inconsistente da Temperatura do ar maxima\n",
    "df_filtered_data = df_filtered_data[df_filtered_data['AirTC_Max'] >= 1]"
   ]
  },
  {
   "cell_type": "code",
   "execution_count": 24,
   "metadata": {},
   "outputs": [
    {
     "data": {
      "text/plain": [
       "(3007, 17)"
      ]
     },
     "execution_count": 24,
     "metadata": {},
     "output_type": "execute_result"
    }
   ],
   "source": [
    "#Nenhum dado removido\n",
    "df_filtered_data.shape"
   ]
  },
  {
   "cell_type": "code",
   "execution_count": 25,
   "metadata": {},
   "outputs": [],
   "source": [
    "# Removendo os dados inconsistente da Temperatura do ar maxima\n",
    "df_filtered_data = df_filtered_data[df_filtered_data['AirTC_Max'] <= 37.965]"
   ]
  },
  {
   "cell_type": "code",
   "execution_count": 26,
   "metadata": {},
   "outputs": [
    {
     "data": {
      "text/plain": [
       "(3006, 17)"
      ]
     },
     "execution_count": 26,
     "metadata": {},
     "output_type": "execute_result"
    }
   ],
   "source": [
    "df_filtered_data.shape"
   ]
  },
  {
   "cell_type": "code",
   "execution_count": 27,
   "metadata": {},
   "outputs": [
    {
     "data": {
      "text/plain": [
       "6.96"
      ]
     },
     "execution_count": 27,
     "metadata": {},
     "output_type": "execute_result"
    }
   ],
   "source": [
    "df_filtered_data['RH_Min'].min()"
   ]
  },
  {
   "cell_type": "code",
   "execution_count": 28,
   "metadata": {},
   "outputs": [],
   "source": [
    "# Removendo os dados inconsistente da Umidade relativa mínima\n",
    "df_filtered_data = df_filtered_data[df_filtered_data['RH_Min'] <= 87.062]"
   ]
  },
  {
   "cell_type": "code",
   "execution_count": 29,
   "metadata": {},
   "outputs": [
    {
     "data": {
      "text/plain": [
       "(2692, 17)"
      ]
     },
     "execution_count": 29,
     "metadata": {},
     "output_type": "execute_result"
    }
   ],
   "source": [
    "df_filtered_data.shape"
   ]
  },
  {
   "cell_type": "code",
   "execution_count": 30,
   "metadata": {},
   "outputs": [
    {
     "data": {
      "text/plain": [
       "98.13600000000001"
      ]
     },
     "execution_count": 30,
     "metadata": {},
     "output_type": "execute_result"
    }
   ],
   "source": [
    "df_filtered_data['RH_Max'].max()"
   ]
  },
  {
   "cell_type": "code",
   "execution_count": 31,
   "metadata": {},
   "outputs": [],
   "source": [
    "# Removendo os dados inconsistente da Umidade relativa maxima\n",
    "df_filtered_data = df_filtered_data[df_filtered_data['RH_Max'] <= 95.5]"
   ]
  },
  {
   "cell_type": "code",
   "execution_count": 32,
   "metadata": {},
   "outputs": [
    {
     "data": {
      "text/plain": [
       "(2684, 17)"
      ]
     },
     "execution_count": 32,
     "metadata": {},
     "output_type": "execute_result"
    }
   ],
   "source": [
    "# Fim da remoçaõ dos dados iconsitente\n",
    "df_filtered_data.shape"
   ]
  },
  {
   "cell_type": "code",
   "execution_count": 34,
   "metadata": {},
   "outputs": [],
   "source": [
    "df_filtered_data = df_filtered_data.reset_index(drop=True)"
   ]
  },
  {
   "cell_type": "code",
   "execution_count": 77,
   "metadata": {},
   "outputs": [
    {
     "data": {
      "text/html": [
       "<div>\n",
       "<style scoped>\n",
       "    .dataframe tbody tr th:only-of-type {\n",
       "        vertical-align: middle;\n",
       "    }\n",
       "\n",
       "    .dataframe tbody tr th {\n",
       "        vertical-align: top;\n",
       "    }\n",
       "\n",
       "    .dataframe thead th {\n",
       "        text-align: right;\n",
       "    }\n",
       "</style>\n",
       "<table border=\"1\" class=\"dataframe\">\n",
       "  <thead>\n",
       "    <tr style=\"text-align: right;\">\n",
       "      <th></th>\n",
       "      <th>RECORD</th>\n",
       "      <th>BP_mbar_Max</th>\n",
       "      <th>BP_mbar_Min</th>\n",
       "      <th>Rain_mm_Tot</th>\n",
       "      <th>AirTC_Max</th>\n",
       "      <th>AirTC_Min</th>\n",
       "      <th>RH_Max</th>\n",
       "      <th>RH_Min</th>\n",
       "      <th>SlrkJ_Tot</th>\n",
       "      <th>TdC_Max</th>\n",
       "      <th>TdC_Min</th>\n",
       "      <th>AirTC_Avg</th>\n",
       "      <th>RH_Avg</th>\n",
       "      <th>WS_ms_Avg</th>\n",
       "      <th>SlrkJ_Avg</th>\n",
       "      <th>Eto</th>\n",
       "    </tr>\n",
       "    <tr>\n",
       "      <th>TIMESTAMP</th>\n",
       "      <th></th>\n",
       "      <th></th>\n",
       "      <th></th>\n",
       "      <th></th>\n",
       "      <th></th>\n",
       "      <th></th>\n",
       "      <th></th>\n",
       "      <th></th>\n",
       "      <th></th>\n",
       "      <th></th>\n",
       "      <th></th>\n",
       "      <th></th>\n",
       "      <th></th>\n",
       "      <th></th>\n",
       "      <th></th>\n",
       "      <th></th>\n",
       "    </tr>\n",
       "  </thead>\n",
       "  <tbody>\n",
       "    <tr>\n",
       "      <td>2016-06-16 01:00:00</td>\n",
       "      <td>20609</td>\n",
       "      <td>600.9829</td>\n",
       "      <td>600.2259</td>\n",
       "      <td>0.0</td>\n",
       "      <td>24.434</td>\n",
       "      <td>23.682</td>\n",
       "      <td>89.355</td>\n",
       "      <td>85.546</td>\n",
       "      <td>1585.170</td>\n",
       "      <td>22.29312</td>\n",
       "      <td>21.44312</td>\n",
       "      <td>23.96824</td>\n",
       "      <td>88.16695</td>\n",
       "      <td>0.000000</td>\n",
       "      <td>4.403249</td>\n",
       "      <td>0.002147</td>\n",
       "    </tr>\n",
       "    <tr>\n",
       "      <td>2016-06-16 02:00:00</td>\n",
       "      <td>20610</td>\n",
       "      <td>600.6807</td>\n",
       "      <td>600.2900</td>\n",
       "      <td>0.0</td>\n",
       "      <td>23.884</td>\n",
       "      <td>22.529</td>\n",
       "      <td>93.378</td>\n",
       "      <td>88.430</td>\n",
       "      <td>1698.799</td>\n",
       "      <td>21.99075</td>\n",
       "      <td>21.14937</td>\n",
       "      <td>23.08900</td>\n",
       "      <td>91.31065</td>\n",
       "      <td>0.000000</td>\n",
       "      <td>4.718886</td>\n",
       "      <td>0.002250</td>\n",
       "    </tr>\n",
       "    <tr>\n",
       "      <td>2016-06-16 03:00:00</td>\n",
       "      <td>20611</td>\n",
       "      <td>600.8853</td>\n",
       "      <td>600.2015</td>\n",
       "      <td>0.0</td>\n",
       "      <td>22.540</td>\n",
       "      <td>21.736</td>\n",
       "      <td>95.656</td>\n",
       "      <td>92.988</td>\n",
       "      <td>2056.785</td>\n",
       "      <td>21.44775</td>\n",
       "      <td>20.88272</td>\n",
       "      <td>22.14371</td>\n",
       "      <td>94.30690</td>\n",
       "      <td>0.000000</td>\n",
       "      <td>5.713292</td>\n",
       "      <td>0.002620</td>\n",
       "    </tr>\n",
       "    <tr>\n",
       "      <td>2016-06-16 04:00:00</td>\n",
       "      <td>20612</td>\n",
       "      <td>600.9280</td>\n",
       "      <td>600.6990</td>\n",
       "      <td>0.0</td>\n",
       "      <td>22.158</td>\n",
       "      <td>21.235</td>\n",
       "      <td>96.186</td>\n",
       "      <td>94.537</td>\n",
       "      <td>2190.182</td>\n",
       "      <td>21.41695</td>\n",
       "      <td>20.61035</td>\n",
       "      <td>21.58857</td>\n",
       "      <td>95.49109</td>\n",
       "      <td>0.000000</td>\n",
       "      <td>6.083838</td>\n",
       "      <td>0.002748</td>\n",
       "    </tr>\n",
       "    <tr>\n",
       "      <td>2016-06-16 05:00:00</td>\n",
       "      <td>20613</td>\n",
       "      <td>600.9432</td>\n",
       "      <td>600.2564</td>\n",
       "      <td>0.0</td>\n",
       "      <td>21.676</td>\n",
       "      <td>20.823</td>\n",
       "      <td>98.484</td>\n",
       "      <td>95.962</td>\n",
       "      <td>2517.170</td>\n",
       "      <td>21.38091</td>\n",
       "      <td>20.30221</td>\n",
       "      <td>21.12033</td>\n",
       "      <td>96.97942</td>\n",
       "      <td>0.000000</td>\n",
       "      <td>6.992139</td>\n",
       "      <td>0.003087</td>\n",
       "    </tr>\n",
       "    <tr>\n",
       "      <td>...</td>\n",
       "      <td>...</td>\n",
       "      <td>...</td>\n",
       "      <td>...</td>\n",
       "      <td>...</td>\n",
       "      <td>...</td>\n",
       "      <td>...</td>\n",
       "      <td>...</td>\n",
       "      <td>...</td>\n",
       "      <td>...</td>\n",
       "      <td>...</td>\n",
       "      <td>...</td>\n",
       "      <td>...</td>\n",
       "      <td>...</td>\n",
       "      <td>...</td>\n",
       "      <td>...</td>\n",
       "      <td>...</td>\n",
       "    </tr>\n",
       "    <tr>\n",
       "      <td>2016-10-19 07:00:00</td>\n",
       "      <td>23615</td>\n",
       "      <td>620.3572</td>\n",
       "      <td>599.7344</td>\n",
       "      <td>0.0</td>\n",
       "      <td>24.954</td>\n",
       "      <td>23.260</td>\n",
       "      <td>85.775</td>\n",
       "      <td>78.117</td>\n",
       "      <td>2295.128</td>\n",
       "      <td>21.04261</td>\n",
       "      <td>20.69714</td>\n",
       "      <td>24.03117</td>\n",
       "      <td>82.42256</td>\n",
       "      <td>1.119167</td>\n",
       "      <td>6.375355</td>\n",
       "      <td>0.023606</td>\n",
       "    </tr>\n",
       "    <tr>\n",
       "      <td>2016-10-19 08:00:00</td>\n",
       "      <td>23616</td>\n",
       "      <td>619.8627</td>\n",
       "      <td>599.7466</td>\n",
       "      <td>0.0</td>\n",
       "      <td>27.388</td>\n",
       "      <td>24.835</td>\n",
       "      <td>78.472</td>\n",
       "      <td>65.828</td>\n",
       "      <td>2914.724</td>\n",
       "      <td>21.13052</td>\n",
       "      <td>20.18818</td>\n",
       "      <td>26.09203</td>\n",
       "      <td>72.45580</td>\n",
       "      <td>1.931736</td>\n",
       "      <td>8.096457</td>\n",
       "      <td>0.056306</td>\n",
       "    </tr>\n",
       "    <tr>\n",
       "      <td>2016-10-19 09:00:00</td>\n",
       "      <td>23617</td>\n",
       "      <td>619.9329</td>\n",
       "      <td>599.7344</td>\n",
       "      <td>0.0</td>\n",
       "      <td>29.270</td>\n",
       "      <td>27.078</td>\n",
       "      <td>66.904</td>\n",
       "      <td>57.888</td>\n",
       "      <td>3410.409</td>\n",
       "      <td>20.85625</td>\n",
       "      <td>20.01264</td>\n",
       "      <td>28.27324</td>\n",
       "      <td>62.41462</td>\n",
       "      <td>1.920209</td>\n",
       "      <td>9.473359</td>\n",
       "      <td>0.078555</td>\n",
       "    </tr>\n",
       "    <tr>\n",
       "      <td>2016-10-19 10:00:00</td>\n",
       "      <td>23618</td>\n",
       "      <td>619.8840</td>\n",
       "      <td>599.7802</td>\n",
       "      <td>0.0</td>\n",
       "      <td>31.978</td>\n",
       "      <td>28.840</td>\n",
       "      <td>59.589</td>\n",
       "      <td>49.726</td>\n",
       "      <td>3977.311</td>\n",
       "      <td>20.87022</td>\n",
       "      <td>19.44653</td>\n",
       "      <td>30.21831</td>\n",
       "      <td>54.65525</td>\n",
       "      <td>1.432778</td>\n",
       "      <td>11.048090</td>\n",
       "      <td>0.077010</td>\n",
       "    </tr>\n",
       "    <tr>\n",
       "      <td>2016-10-19 11:00:00</td>\n",
       "      <td>23619</td>\n",
       "      <td>620.4030</td>\n",
       "      <td>599.7253</td>\n",
       "      <td>0.0</td>\n",
       "      <td>33.289</td>\n",
       "      <td>30.840</td>\n",
       "      <td>52.867</td>\n",
       "      <td>43.497</td>\n",
       "      <td>4460.519</td>\n",
       "      <td>20.52118</td>\n",
       "      <td>18.96729</td>\n",
       "      <td>32.25749</td>\n",
       "      <td>47.55349</td>\n",
       "      <td>1.144931</td>\n",
       "      <td>12.390330</td>\n",
       "      <td>0.076337</td>\n",
       "    </tr>\n",
       "  </tbody>\n",
       "</table>\n",
       "<p>3007 rows × 16 columns</p>\n",
       "</div>"
      ],
      "text/plain": [
       "                     RECORD  BP_mbar_Max  BP_mbar_Min  Rain_mm_Tot  AirTC_Max  \\\n",
       "TIMESTAMP                                                                       \n",
       "2016-06-16 01:00:00   20609     600.9829     600.2259          0.0     24.434   \n",
       "2016-06-16 02:00:00   20610     600.6807     600.2900          0.0     23.884   \n",
       "2016-06-16 03:00:00   20611     600.8853     600.2015          0.0     22.540   \n",
       "2016-06-16 04:00:00   20612     600.9280     600.6990          0.0     22.158   \n",
       "2016-06-16 05:00:00   20613     600.9432     600.2564          0.0     21.676   \n",
       "...                     ...          ...          ...          ...        ...   \n",
       "2016-10-19 07:00:00   23615     620.3572     599.7344          0.0     24.954   \n",
       "2016-10-19 08:00:00   23616     619.8627     599.7466          0.0     27.388   \n",
       "2016-10-19 09:00:00   23617     619.9329     599.7344          0.0     29.270   \n",
       "2016-10-19 10:00:00   23618     619.8840     599.7802          0.0     31.978   \n",
       "2016-10-19 11:00:00   23619     620.4030     599.7253          0.0     33.289   \n",
       "\n",
       "                     AirTC_Min  RH_Max  RH_Min  SlrkJ_Tot   TdC_Max   TdC_Min  \\\n",
       "TIMESTAMP                                                                       \n",
       "2016-06-16 01:00:00     23.682  89.355  85.546   1585.170  22.29312  21.44312   \n",
       "2016-06-16 02:00:00     22.529  93.378  88.430   1698.799  21.99075  21.14937   \n",
       "2016-06-16 03:00:00     21.736  95.656  92.988   2056.785  21.44775  20.88272   \n",
       "2016-06-16 04:00:00     21.235  96.186  94.537   2190.182  21.41695  20.61035   \n",
       "2016-06-16 05:00:00     20.823  98.484  95.962   2517.170  21.38091  20.30221   \n",
       "...                        ...     ...     ...        ...       ...       ...   \n",
       "2016-10-19 07:00:00     23.260  85.775  78.117   2295.128  21.04261  20.69714   \n",
       "2016-10-19 08:00:00     24.835  78.472  65.828   2914.724  21.13052  20.18818   \n",
       "2016-10-19 09:00:00     27.078  66.904  57.888   3410.409  20.85625  20.01264   \n",
       "2016-10-19 10:00:00     28.840  59.589  49.726   3977.311  20.87022  19.44653   \n",
       "2016-10-19 11:00:00     30.840  52.867  43.497   4460.519  20.52118  18.96729   \n",
       "\n",
       "                     AirTC_Avg    RH_Avg  WS_ms_Avg  SlrkJ_Avg       Eto  \n",
       "TIMESTAMP                                                                 \n",
       "2016-06-16 01:00:00   23.96824  88.16695   0.000000   4.403249  0.002147  \n",
       "2016-06-16 02:00:00   23.08900  91.31065   0.000000   4.718886  0.002250  \n",
       "2016-06-16 03:00:00   22.14371  94.30690   0.000000   5.713292  0.002620  \n",
       "2016-06-16 04:00:00   21.58857  95.49109   0.000000   6.083838  0.002748  \n",
       "2016-06-16 05:00:00   21.12033  96.97942   0.000000   6.992139  0.003087  \n",
       "...                        ...       ...        ...        ...       ...  \n",
       "2016-10-19 07:00:00   24.03117  82.42256   1.119167   6.375355  0.023606  \n",
       "2016-10-19 08:00:00   26.09203  72.45580   1.931736   8.096457  0.056306  \n",
       "2016-10-19 09:00:00   28.27324  62.41462   1.920209   9.473359  0.078555  \n",
       "2016-10-19 10:00:00   30.21831  54.65525   1.432778  11.048090  0.077010  \n",
       "2016-10-19 11:00:00   32.25749  47.55349   1.144931  12.390330  0.076337  \n",
       "\n",
       "[3007 rows x 16 columns]"
      ]
     },
     "execution_count": 77,
     "metadata": {},
     "output_type": "execute_result"
    }
   ],
   "source": [
    "df_filtered_data"
   ]
  },
  {
   "cell_type": "code",
   "execution_count": 74,
   "metadata": {},
   "outputs": [],
   "source": [
    "import math\n",
    "\n",
    "train_percentage = 0.7\n",
    "linha_fim_treino = math.floor(train_percentage * df_filtered_data.shape[0])\n",
    "linha_fim_teste = df_filtered_data.shape[0]\n",
    "df_filtered_data.iloc[0:linha_fim_treino].to_csv('../dados/train.csv')\n",
    "df_filtered_data.iloc[linha_fim_treino:linha_fim_teste].to_csv('../dados/test.csv')"
   ]
  },
  {
   "cell_type": "markdown",
   "metadata": {},
   "source": [
    "## Criação de modelos e testes"
   ]
  },
  {
   "cell_type": "code",
   "execution_count": 71,
   "metadata": {},
   "outputs": [
    {
     "name": "stdout",
     "output_type": "stream",
     "text": [
      "Checking whether there is an H2O instance running at http://localhost:54321 ..... not found.\n",
      "Attempting to start a local H2O server...\n",
      "  Java Version: openjdk version \"11.0.1\" 2018-10-16 LTS; OpenJDK Runtime Environment Zulu11.2+3 (build 11.0.1+13-LTS); OpenJDK 64-Bit Server VM Zulu11.2+3 (build 11.0.1+13-LTS, mixed mode)\n",
      "  Starting server from /Users/gustavolgcr/miniconda3/envs/mdm2020/lib/python3.6/site-packages/h2o/backend/bin/h2o.jar\n",
      "  Ice root: /var/folders/cs/4b2lpnsn6dg59p2_y72j05jh0000gn/T/tmp0x163vgx\n",
      "  JVM stdout: /var/folders/cs/4b2lpnsn6dg59p2_y72j05jh0000gn/T/tmp0x163vgx/h2o_gustavolgcr_started_from_python.out\n",
      "  JVM stderr: /var/folders/cs/4b2lpnsn6dg59p2_y72j05jh0000gn/T/tmp0x163vgx/h2o_gustavolgcr_started_from_python.err\n",
      "  Server is running at http://127.0.0.1:54321\n",
      "Connecting to H2O server at http://127.0.0.1:54321 ... successful.\n",
      "Warning: Your H2O cluster version is too old (11 months and 11 days)! Please download and install the latest version from http://h2o.ai/download/\n"
     ]
    },
    {
     "data": {
      "text/html": [
       "<div style=\"overflow:auto\"><table style=\"width:50%\"><tr><td>H2O cluster uptime:</td>\n",
       "<td>02 secs</td></tr>\n",
       "<tr><td>H2O cluster timezone:</td>\n",
       "<td>America/Fortaleza</td></tr>\n",
       "<tr><td>H2O data parsing timezone:</td>\n",
       "<td>UTC</td></tr>\n",
       "<tr><td>H2O cluster version:</td>\n",
       "<td>3.24.0.3</td></tr>\n",
       "<tr><td>H2O cluster version age:</td>\n",
       "<td>11 months and 11 days !!!</td></tr>\n",
       "<tr><td>H2O cluster name:</td>\n",
       "<td>H2O_from_python_gustavolgcr_kfqfjf</td></tr>\n",
       "<tr><td>H2O cluster total nodes:</td>\n",
       "<td>1</td></tr>\n",
       "<tr><td>H2O cluster free memory:</td>\n",
       "<td>4 Gb</td></tr>\n",
       "<tr><td>H2O cluster total cores:</td>\n",
       "<td>8</td></tr>\n",
       "<tr><td>H2O cluster allowed cores:</td>\n",
       "<td>8</td></tr>\n",
       "<tr><td>H2O cluster status:</td>\n",
       "<td>accepting new members, healthy</td></tr>\n",
       "<tr><td>H2O connection url:</td>\n",
       "<td>http://127.0.0.1:54321</td></tr>\n",
       "<tr><td>H2O connection proxy:</td>\n",
       "<td>None</td></tr>\n",
       "<tr><td>H2O internal security:</td>\n",
       "<td>False</td></tr>\n",
       "<tr><td>H2O API Extensions:</td>\n",
       "<td>Amazon S3, XGBoost, Algos, AutoML, Core V3, Core V4</td></tr>\n",
       "<tr><td>Python version:</td>\n",
       "<td>3.6.7 final</td></tr></table></div>"
      ],
      "text/plain": [
       "--------------------------  ---------------------------------------------------\n",
       "H2O cluster uptime:         02 secs\n",
       "H2O cluster timezone:       America/Fortaleza\n",
       "H2O data parsing timezone:  UTC\n",
       "H2O cluster version:        3.24.0.3\n",
       "H2O cluster version age:    11 months and 11 days !!!\n",
       "H2O cluster name:           H2O_from_python_gustavolgcr_kfqfjf\n",
       "H2O cluster total nodes:    1\n",
       "H2O cluster free memory:    4 Gb\n",
       "H2O cluster total cores:    8\n",
       "H2O cluster allowed cores:  8\n",
       "H2O cluster status:         accepting new members, healthy\n",
       "H2O connection url:         http://127.0.0.1:54321\n",
       "H2O connection proxy:\n",
       "H2O internal security:      False\n",
       "H2O API Extensions:         Amazon S3, XGBoost, Algos, AutoML, Core V3, Core V4\n",
       "Python version:             3.6.7 final\n",
       "--------------------------  ---------------------------------------------------"
      ]
     },
     "metadata": {},
     "output_type": "display_data"
    }
   ],
   "source": [
    "import h2o\n",
    "from h2o.automl import H2OAutoML\n",
    "\n",
    "h2o.init()"
   ]
  },
  {
   "cell_type": "code",
   "execution_count": 75,
   "metadata": {},
   "outputs": [
    {
     "name": "stdout",
     "output_type": "stream",
     "text": [
      "Parse progress: |█████████████████████████████████████████████████████████| 100%\n",
      "Parse progress: |█████████████████████████████████████████████████████████| 100%\n"
     ]
    }
   ],
   "source": [
    "# Import a sample binary outcome train/test set into H2O\n",
    "train = h2o.import_file(\"../dados/train.csv\")\n",
    "test = h2o.import_file(\"../dados/test.csv\")"
   ]
  },
  {
   "cell_type": "code",
   "execution_count": 78,
   "metadata": {},
   "outputs": [],
   "source": [
    "x = train.columns\n",
    "y = \"Eto\"\n",
    "x.remove(y)"
   ]
  },
  {
   "cell_type": "code",
   "execution_count": 82,
   "metadata": {},
   "outputs": [
    {
     "name": "stdout",
     "output_type": "stream",
     "text": [
      "AutoML progress: |████████████████████████████████████████████████████████| 100%\n"
     ]
    }
   ],
   "source": [
    "# Run AutoML for 20 base models (limited to 1 hour max runtime by default)\n",
    "aml = H2OAutoML(max_models=20, seed=1)\n",
    "aml.train(x=x, y=y, training_frame=train)"
   ]
  },
  {
   "cell_type": "code",
   "execution_count": 83,
   "metadata": {},
   "outputs": [
    {
     "data": {
      "text/html": [
       "<table>\n",
       "<thead>\n",
       "<tr><th>model_id                                           </th><th style=\"text-align: right;\">  mean_residual_deviance</th><th style=\"text-align: right;\">      rmse</th><th style=\"text-align: right;\">        mse</th><th style=\"text-align: right;\">       mae</th><th style=\"text-align: right;\">     rmsle</th></tr>\n",
       "</thead>\n",
       "<tbody>\n",
       "<tr><td>StackedEnsemble_AllModels_AutoML_20200418_154055   </td><td style=\"text-align: right;\">             1.15286e-05</td><td style=\"text-align: right;\">0.00339538</td><td style=\"text-align: right;\">1.15286e-05</td><td style=\"text-align: right;\">0.00223508</td><td style=\"text-align: right;\">0.00317191</td></tr>\n",
       "<tr><td>StackedEnsemble_BestOfFamily_AutoML_20200418_154055</td><td style=\"text-align: right;\">             1.15286e-05</td><td style=\"text-align: right;\">0.00339538</td><td style=\"text-align: right;\">1.15286e-05</td><td style=\"text-align: right;\">0.00223508</td><td style=\"text-align: right;\">0.00317191</td></tr>\n",
       "<tr><td>XGBoost_1_AutoML_20200418_154055                   </td><td style=\"text-align: right;\">             1.45922e-05</td><td style=\"text-align: right;\">0.00381997</td><td style=\"text-align: right;\">1.45922e-05</td><td style=\"text-align: right;\">0.00283297</td><td style=\"text-align: right;\">0.00360064</td></tr>\n",
       "<tr><td>XGBoost_2_AutoML_20200418_154055                   </td><td style=\"text-align: right;\">             0.00352281 </td><td style=\"text-align: right;\">0.0593533 </td><td style=\"text-align: right;\">0.00352281 </td><td style=\"text-align: right;\">0.0577344 </td><td style=\"text-align: right;\">0.0554773 </td></tr>\n",
       "</tbody>\n",
       "</table>"
      ]
     },
     "metadata": {},
     "output_type": "display_data"
    },
    {
     "data": {
      "text/plain": []
     },
     "execution_count": 83,
     "metadata": {},
     "output_type": "execute_result"
    }
   ],
   "source": [
    "# View the AutoML Leaderboard\n",
    "lb = aml.leaderboard\n",
    "lb.head(rows=lb.nrows)  # Print all rows instead of default (10 rows)"
   ]
  },
  {
   "cell_type": "code",
   "execution_count": 84,
   "metadata": {},
   "outputs": [
    {
     "name": "stdout",
     "output_type": "stream",
     "text": [
      "Model Details\n",
      "=============\n",
      "H2OStackedEnsembleEstimator :  Stacked Ensemble\n",
      "Model Key:  StackedEnsemble_AllModels_AutoML_20200418_154055\n",
      "No model summary for this model\n",
      "\n",
      "\n",
      "ModelMetricsRegressionGLM: stackedensemble\n",
      "** Reported on train data. **\n",
      "\n",
      "MSE: 3.7085057300699687e-06\n",
      "RMSE: 0.0019257480962135128\n",
      "MAE: 0.0012990660661533883\n",
      "RMSLE: 0.0018197788483098848\n",
      "R^2: 0.998678852513583\n",
      "Mean Residual Deviance: 3.7085057300699687e-06\n",
      "Null degrees of freedom: 2103\n",
      "Residual degrees of freedom: 2102\n",
      "Null deviance: 5.90599924405776\n",
      "Residual deviance: 0.007802696056067214\n",
      "AIC: -20333.377392768707\n",
      "\n",
      "ModelMetricsRegressionGLM: stackedensemble\n",
      "** Reported on cross-validation data. **\n",
      "\n",
      "MSE: 1.1528607267358343e-05\n",
      "RMSE: 0.0033953802831727616\n",
      "MAE: 0.002235083544097707\n",
      "RMSLE: 0.0031719101776477724\n",
      "R^2: 0.9958929575355217\n",
      "Mean Residual Deviance: 1.1528607267358343e-05\n",
      "Null degrees of freedom: 2103\n",
      "Residual degrees of freedom: 2102\n",
      "Null deviance: 5.907152772846434\n",
      "Residual deviance: 0.024256189690521953\n",
      "AIC: -17947.015316783978\n"
     ]
    },
    {
     "data": {
      "text/plain": []
     },
     "execution_count": 84,
     "metadata": {},
     "output_type": "execute_result"
    }
   ],
   "source": [
    "# The leader model is stored here\n",
    "aml.leader"
   ]
  },
  {
   "cell_type": "code",
   "execution_count": null,
   "metadata": {},
   "outputs": [],
   "source": []
  }
 ],
 "metadata": {
  "kernelspec": {
   "display_name": "Python 3",
   "language": "python",
   "name": "python3"
  },
  "language_info": {
   "codemirror_mode": {
    "name": "ipython",
    "version": 3
   },
   "file_extension": ".py",
   "mimetype": "text/x-python",
   "name": "python",
   "nbconvert_exporter": "python",
   "pygments_lexer": "ipython3",
   "version": "3.6.7"
  }
 },
 "nbformat": 4,
 "nbformat_minor": 2
}
